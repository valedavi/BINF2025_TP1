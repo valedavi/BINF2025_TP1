{
  "nbformat": 4,
  "nbformat_minor": 0,
  "metadata": {
    "colab": {
      "provenance": []
    },
    "kernelspec": {
      "name": "python3",
      "display_name": "Python 3"
    },
    "language_info": {
      "name": "python"
    }
  },
  "cells": [
    {
      "cell_type": "markdown",
      "source": [
        "# Exercice 0 : échauffement"
      ],
      "metadata": {
        "id": "BzSC6lZgtid-"
      }
    },
    {
      "cell_type": "markdown",
      "source": [
        "Dans ce TP nous allons représenter des distributions de données via différents types de graphes.\n",
        "\n",
        "Q1: Expliquez ce que représente et quand utiliser :\n",
        "\n",
        "\n",
        "*   un scatterplot\n",
        "*   un barplot\n",
        "*   un boxplot\n",
        "*   un violinplot\n",
        "*   un histogramme\n",
        "\n",
        "\n",
        "\n",
        "\n"
      ],
      "metadata": {
        "id": "aZ1yf1CtsnPk"
      }
    },
    {
      "cell_type": "markdown",
      "source": [
        "```markdown\n",
        "Votre réponse iciaaaaaaaaaaaaaaaaaaa\n",
        "```"
      ],
      "metadata": {
        "id": "VyvImAWts4_h"
      }
    },
    {
      "cell_type": "markdown",
      "source": [
        "# Exercice 1 : description de la base genbank"
      ],
      "metadata": {
        "id": "Wf7mamjQt2aQ"
      }
    },
    {
      "cell_type": "markdown",
      "source": [
        "La base de données genbank est un des principaux dépots de données de génomes, elle gérée par le NCBI Américain (National Center for Biotechnology Information).\n",
        "\n",
        "Dans cet exercice, allons étudier le contenu général de cette base de données en utilisant les fichiers de résumés."
      ],
      "metadata": {
        "id": "Qtp_GvGzs8xr"
      }
    },
    {
      "cell_type": "markdown",
      "source": [
        "---"
      ],
      "metadata": {
        "id": "hOS03wmjyxWX"
      }
    },
    {
      "cell_type": "markdown",
      "source": [
        "Note technique : dans colab, vous pouvez monter votre google drive avec le code suivant :"
      ],
      "metadata": {
        "id": "V3_Ytl_AypPn"
      }
    },
    {
      "cell_type": "code",
      "source": [
        "from google.colab import drive\n",
        "drive.mount('/content/gdrive')"
      ],
      "metadata": {
        "id": "mcpOIXziyvIt"
      },
      "execution_count": null,
      "outputs": []
    },
    {
      "cell_type": "markdown",
      "source": [
        "---"
      ],
      "metadata": {
        "id": "xf_z3wkSywXr"
      }
    },
    {
      "cell_type": "markdown",
      "source": [
        "Q1. Téléchargez les fichier \"overview.txt\" et \"README\" disponibles ici :\n",
        "\n",
        " https://ftp.ncbi.nlm.nih.gov/genomes/GENOME_REPORTS/\n",
        "\n"
      ],
      "metadata": {
        "id": "Y_neXxKUtaq3"
      }
    },
    {
      "cell_type": "markdown",
      "source": [
        "Q2. Quel est le format du fichier \"overview.txt\" ?"
      ],
      "metadata": {
        "id": "80dH8XR6uK1N"
      }
    },
    {
      "cell_type": "markdown",
      "source": [
        "```markdown\n",
        "Votre réponse ici\n",
        "```"
      ],
      "metadata": {
        "id": "SGowRH9cui_e"
      }
    },
    {
      "cell_type": "markdown",
      "source": [
        "Q3. Utilisez le fichier README pour comprendre ce que chaque colonne représente."
      ],
      "metadata": {
        "id": "R4m65wC5ufPL"
      }
    },
    {
      "cell_type": "markdown",
      "source": [
        "```markdown\n",
        "Votre réponse ici\n",
        "```"
      ],
      "metadata": {
        "id": "JJHy3UDRul7J"
      }
    },
    {
      "cell_type": "markdown",
      "source": [
        "## Organisation de la base de données"
      ],
      "metadata": {
        "id": "K84ckFQvundb"
      }
    },
    {
      "cell_type": "markdown",
      "source": [
        "Q4. Combien d’organismes sont présents ?"
      ],
      "metadata": {
        "id": "SaU5LeGjuxC_"
      }
    },
    {
      "cell_type": "code",
      "source": [
        "#Votre code ici"
      ],
      "metadata": {
        "colab": {
          "base_uri": "https://localhost:8080/"
        },
        "id": "kLpubavwu2UX",
        "outputId": "254be984-a102-41f7-95b0-82f08784ef77"
      },
      "execution_count": null,
      "outputs": [
        {
          "output_type": "stream",
          "name": "stdout",
          "text": [
            "Votre code ici\n"
          ]
        }
      ]
    },
    {
      "cell_type": "markdown",
      "source": [
        "### Royaumes"
      ],
      "metadata": {
        "id": "8YuUcejtu3s7"
      }
    },
    {
      "cell_type": "markdown",
      "source": [
        "Q5. Qu'est-ce qu'un royaume ?"
      ],
      "metadata": {
        "id": "RRVqMrRvvGyk"
      }
    },
    {
      "cell_type": "markdown",
      "source": [
        "```markdown\n",
        "Votre réponse ici\n",
        "```"
      ],
      "metadata": {
        "id": "cgAZIG0_vJ2D"
      }
    },
    {
      "cell_type": "markdown",
      "source": [
        "Q6. Combien de royaumes sont présents dans la base ?"
      ],
      "metadata": {
        "id": "WJjTWKxIvLbU"
      }
    },
    {
      "cell_type": "markdown",
      "source": [
        "```markdown\n",
        "Votre réponse ici\n",
        "```"
      ],
      "metadata": {
        "id": "h5aS5XsqvRSp"
      }
    },
    {
      "cell_type": "markdown",
      "source": [
        "Q7. Affichez le nombre d’organismes pour chaque royaume."
      ],
      "metadata": {
        "id": "YII_sIxavS3t"
      }
    },
    {
      "cell_type": "code",
      "source": [
        "#Votre code ici"
      ],
      "metadata": {
        "id": "xxvVXIVKvZZP"
      },
      "execution_count": null,
      "outputs": []
    },
    {
      "cell_type": "markdown",
      "source": [
        "### Groupes"
      ],
      "metadata": {
        "id": "UnM-DgkPva-C"
      }
    },
    {
      "cell_type": "markdown",
      "source": [
        "Q8. Qu’est-ce qu’un groupe ?"
      ],
      "metadata": {
        "id": "KYmuKnmEve6V"
      }
    },
    {
      "cell_type": "markdown",
      "source": [
        "```markdown\n",
        "Votre réponse ici\n",
        "```"
      ],
      "metadata": {
        "id": "l8096_1CviTm"
      }
    },
    {
      "cell_type": "markdown",
      "source": [
        "Q9. Combien de groupes sont présents par royaume ?"
      ],
      "metadata": {
        "id": "4IB6jZImvj_-"
      }
    },
    {
      "cell_type": "markdown",
      "source": [],
      "metadata": {
        "id": "H6kcWMFnvsfu"
      }
    },
    {
      "cell_type": "code",
      "source": [
        "#Votre code ici"
      ],
      "metadata": {
        "id": "b3iqxuf3vrW0"
      },
      "execution_count": null,
      "outputs": []
    },
    {
      "cell_type": "markdown",
      "source": [
        "Q10. Affichez pour chaque royaume le nombre d’organismes par groupe."
      ],
      "metadata": {
        "id": "vjSlkTyUvvvQ"
      }
    },
    {
      "cell_type": "code",
      "source": [
        "#Votre code ici"
      ],
      "metadata": {
        "id": "dlBYqoZNv2Dj"
      },
      "execution_count": null,
      "outputs": []
    },
    {
      "cell_type": "markdown",
      "source": [
        "## Génomes"
      ],
      "metadata": {
        "id": "kgzvx6tRwBwt"
      }
    },
    {
      "cell_type": "markdown",
      "source": [
        "Q11. Affichez la distribution des tailles de génomes sur toute la base de données, utilisez un boxplot ou un violinplot (avec axe en log pour y voir quelque chose)."
      ],
      "metadata": {
        "id": "4uAGGteWwHAQ"
      }
    },
    {
      "cell_type": "code",
      "source": [
        "#Votre code ici"
      ],
      "metadata": {
        "id": "FoQ74OYSwTBM"
      },
      "execution_count": null,
      "outputs": []
    },
    {
      "cell_type": "markdown",
      "source": [
        "Q12. Affichez la distribution par royaume."
      ],
      "metadata": {
        "id": "eIhDvcFQwm2n"
      }
    },
    {
      "cell_type": "code",
      "source": [
        "#Votre code ici"
      ],
      "metadata": {
        "id": "BefoaM92wv-t"
      },
      "execution_count": null,
      "outputs": []
    },
    {
      "cell_type": "markdown",
      "source": [
        "Q13. Affichez la distribution par groupe pour chaque royaume."
      ],
      "metadata": {
        "id": "yY1MHFKGwxIr"
      }
    },
    {
      "cell_type": "code",
      "source": [
        "#Votre code ici"
      ],
      "metadata": {
        "id": "EEsZ2FDLw3Sz"
      },
      "execution_count": null,
      "outputs": []
    },
    {
      "cell_type": "markdown",
      "source": [
        "Q14. Pour chaque royaume, donnez le nom et la taille de l’organisme avec le plus petit génome."
      ],
      "metadata": {
        "id": "dM9aQnstxGLb"
      }
    },
    {
      "cell_type": "code",
      "source": [
        "#Votre code ici"
      ],
      "metadata": {
        "id": "zJgE62MtxP9a"
      },
      "execution_count": null,
      "outputs": []
    },
    {
      "cell_type": "markdown",
      "source": [
        "Q15. Même chose mais pour l'organisme avec le plus grand génome."
      ],
      "metadata": {
        "id": "ZtKBn_QTxRW5"
      }
    },
    {
      "cell_type": "code",
      "source": [
        "#Votre code ici"
      ],
      "metadata": {
        "id": "qf5pbziExVeA"
      },
      "execution_count": null,
      "outputs": []
    },
    {
      "cell_type": "markdown",
      "source": [
        "## Chromosomes"
      ],
      "metadata": {
        "id": "3yXU3wfixjlY"
      }
    },
    {
      "cell_type": "markdown",
      "source": [
        "Q16. Affichez la distribution du nombre de chromosomes, sous la forme d’un histogramme, sur toute la base de données."
      ],
      "metadata": {
        "id": "d86DeXm6xl95"
      }
    },
    {
      "cell_type": "code",
      "source": [
        "#Votre code ici"
      ],
      "metadata": {
        "id": "cVgVRe82xxDu"
      },
      "execution_count": null,
      "outputs": []
    },
    {
      "cell_type": "markdown",
      "source": [
        "Q17. Même chose mais pour chaque royaume sous la forme d'un boxplot (ou violinplot)."
      ],
      "metadata": {
        "id": "zI3OY3idxyRz"
      }
    },
    {
      "cell_type": "code",
      "source": [
        "#Votre code ici"
      ],
      "metadata": {
        "id": "o_2RXVfZx9r9"
      },
      "execution_count": null,
      "outputs": []
    },
    {
      "cell_type": "markdown",
      "source": [
        "Q18. Qu’observez-vous ? Comment l’expliquez-vous ?"
      ],
      "metadata": {
        "id": "26zBhs_sx_Yn"
      }
    },
    {
      "cell_type": "markdown",
      "source": [
        "```markdown\n",
        "Votre réponse ici\n",
        "```"
      ],
      "metadata": {
        "id": "i_pRzRMKyBr3"
      }
    },
    {
      "cell_type": "markdown",
      "source": [
        "Q19. Pour les Eucaryotes uniquement, affichez la distribution du nombre de chromosomes sous la forme d’un histogramme."
      ],
      "metadata": {
        "id": "-W14JDk6yILU"
      }
    },
    {
      "cell_type": "code",
      "source": [
        "#Votre code ici"
      ],
      "metadata": {
        "id": "9Z7y7SvoyUB7"
      },
      "execution_count": null,
      "outputs": []
    },
    {
      "cell_type": "markdown",
      "source": [
        "Q20. Pour les Eucaryotes uniquement, affichez la taille des génomes en fonction du nombre de chromosomes, sous forme d'un graphe (scatter plot)."
      ],
      "metadata": {
        "id": "fjZgGKMByVQq"
      }
    },
    {
      "cell_type": "code",
      "source": [
        "#Votre code ici"
      ],
      "metadata": {
        "id": "TexCG9hSyoRN"
      },
      "execution_count": null,
      "outputs": []
    },
    {
      "cell_type": "markdown",
      "source": [
        "Q21. Qu’observez-vous ?"
      ],
      "metadata": {
        "id": "FV02vWsyypa3"
      }
    },
    {
      "cell_type": "markdown",
      "source": [
        "```markdown\n",
        "Votre réponse ici\n",
        "```"
      ],
      "metadata": {
        "id": "SM7IZWZcyrJb"
      }
    },
    {
      "cell_type": "markdown",
      "source": [
        "## Plasmides"
      ],
      "metadata": {
        "id": "NiPmjrf30cKM"
      }
    },
    {
      "cell_type": "markdown",
      "source": [
        "Q22. Qu'est-ce qu'un plasmide ?"
      ],
      "metadata": {
        "id": "_qSxLqcD0eDd"
      }
    },
    {
      "cell_type": "markdown",
      "source": [
        "```markdown\n",
        "Votre réponse ici\n",
        "```"
      ],
      "metadata": {
        "id": "JQFkXghg0iXM"
      }
    },
    {
      "cell_type": "markdown",
      "source": [
        "Q23. Affichez le nombre moyen de plasmides par royaume, sous forme d'un barplot."
      ],
      "metadata": {
        "id": "5vh9uq-20jv_"
      }
    },
    {
      "cell_type": "code",
      "source": [
        "#Votre code ici"
      ],
      "metadata": {
        "id": "n2-rF_H40pEP"
      },
      "execution_count": null,
      "outputs": []
    },
    {
      "cell_type": "markdown",
      "source": [
        "Q24. Qu'observez-vous ?"
      ],
      "metadata": {
        "id": "-Hu-eCtU02k-"
      }
    },
    {
      "cell_type": "markdown",
      "source": [
        "```markdown\n",
        "Votre réponse ici\n",
        "```"
      ],
      "metadata": {
        "id": "WkTWMBr5058t"
      }
    },
    {
      "cell_type": "markdown",
      "source": [
        "## Projets"
      ],
      "metadata": {
        "id": "-FGOVzG71Bpd"
      }
    },
    {
      "cell_type": "markdown",
      "source": [
        "Q25. Qu'est-ce qu'un projet ?"
      ],
      "metadata": {
        "id": "_KT0WqxQ1D5L"
      }
    },
    {
      "cell_type": "markdown",
      "source": [
        "```markdown\n",
        "Votre réponse ici\n",
        "```"
      ],
      "metadata": {
        "id": "2CT6wDfL1HAA"
      }
    },
    {
      "cell_type": "markdown",
      "source": [
        "Q26. Affichez le nombre de projets moyen par organisme pour chaque royaume, sous forme d'un barplot."
      ],
      "metadata": {
        "id": "oyB0YYcr1IWI"
      }
    },
    {
      "cell_type": "code",
      "source": [
        "#Votre code ici"
      ],
      "metadata": {
        "id": "R-F83W0B1RK5"
      },
      "execution_count": null,
      "outputs": []
    },
    {
      "cell_type": "markdown",
      "source": [
        "Q27. Combien d'organismes ont 0 projets ?"
      ],
      "metadata": {
        "id": "I0smAhux1UVu"
      }
    },
    {
      "cell_type": "code",
      "source": [
        "#Votre code ici"
      ],
      "metadata": {
        "id": "D0ftzo5v1Yhg"
      },
      "execution_count": null,
      "outputs": []
    },
    {
      "cell_type": "markdown",
      "source": [
        "Q28. Combien d'organismes ont > 1 projets ?"
      ],
      "metadata": {
        "id": "DWe4pEPk1Zh4"
      }
    },
    {
      "cell_type": "code",
      "source": [
        "#Votre code ici"
      ],
      "metadata": {
        "id": "ufa4IZ4D1dzM"
      },
      "execution_count": null,
      "outputs": []
    },
    {
      "cell_type": "markdown",
      "source": [
        "Q29. Affichez le nom et nombre du TOP 5 des organismes possédant le plus de projets."
      ],
      "metadata": {
        "id": "69GLhgJm1f6I"
      }
    },
    {
      "cell_type": "code",
      "source": [
        "#Votre code ici"
      ],
      "metadata": {
        "id": "sno2DqXD1mOU"
      },
      "execution_count": null,
      "outputs": []
    },
    {
      "cell_type": "markdown",
      "source": [
        "Q30. Expliquez rapidement pourquoi ces organismes sont les plus étudiés."
      ],
      "metadata": {
        "id": "cuver9rX1ofM"
      }
    },
    {
      "cell_type": "markdown",
      "source": [
        "```markdown\n",
        "Votre réponse ici\n",
        "```"
      ],
      "metadata": {
        "id": "MZsDnE2j10cO"
      }
    },
    {
      "cell_type": "markdown",
      "source": [
        "# Exercice 3 : Gènes"
      ],
      "metadata": {
        "id": "lDmIuWXz18-J"
      }
    },
    {
      "cell_type": "markdown",
      "source": [
        "Pour obtenir des informations plus précises sur les gènes contenus dans les différents organismes de genbank, nous allons travailler avec le fichier de résumé d'assemblage."
      ],
      "metadata": {
        "id": "QCcmFeGf2BTn"
      }
    },
    {
      "cell_type": "markdown",
      "source": [
        "Q1. Récupérez le fichier \"assembly_summary_genbank_historical.txt\" situé ici:\n",
        "https://ftp.ncbi.nlm.nih.gov/genomes/ASSEMBLY_REPORTS/\n",
        "\n",
        "(On utilise le fichier historique car il est plus petit, l’autre fichier fait >1GB)"
      ],
      "metadata": {
        "id": "yVbG_vNb2OiI"
      }
    },
    {
      "cell_type": "markdown",
      "source": [
        "Q2. Qu'est-ce que le GC content ? Pourquoi est-il mesuré?"
      ],
      "metadata": {
        "id": "5DN-FBzu55j2"
      }
    },
    {
      "cell_type": "markdown",
      "source": [
        "```markdown\n",
        "Votre réponse ici\n",
        "```"
      ],
      "metadata": {
        "id": "1GdQhEom5-u7"
      }
    },
    {
      "cell_type": "markdown",
      "source": [
        "Q3. Affichez la distribution du GC content dans tous les organismes de la liste, sous forme d'un violinplot."
      ],
      "metadata": {
        "id": "KsETs-jP2frR"
      }
    },
    {
      "cell_type": "code",
      "source": [
        "#Votre code ici"
      ],
      "metadata": {
        "id": "etKTcPws3Qur"
      },
      "execution_count": null,
      "outputs": []
    },
    {
      "cell_type": "markdown",
      "source": [],
      "metadata": {
        "id": "IBOOujQm3R1n"
      }
    },
    {
      "cell_type": "markdown",
      "source": [
        "Q4. Qu'observez-vous ?"
      ],
      "metadata": {
        "id": "S-4AN7J85XZX"
      }
    },
    {
      "cell_type": "markdown",
      "source": [
        "```markdown\n",
        "Votre réponse ici\n",
        "```"
      ],
      "metadata": {
        "id": "ExvmSOL55aaj"
      }
    },
    {
      "cell_type": "markdown",
      "source": [
        "Q5. Affichez le GC content en fonction de la taille du génome, sous forme de scatter plot."
      ],
      "metadata": {
        "id": "IuVawXI55bk0"
      }
    },
    {
      "cell_type": "code",
      "source": [
        "#Votre code ici"
      ],
      "metadata": {
        "id": "u-h08VNY5pl8"
      },
      "execution_count": null,
      "outputs": []
    },
    {
      "cell_type": "markdown",
      "source": [
        "Q6. Qu'observez-vous ?"
      ],
      "metadata": {
        "id": "bWa-pqkY5qcr"
      }
    },
    {
      "cell_type": "markdown",
      "source": [
        "```markdown\n",
        "Votre réponse ici\n",
        "```"
      ],
      "metadata": {
        "id": "h8KyylBE5sfv"
      }
    },
    {
      "cell_type": "markdown",
      "source": [
        "Q7. Affichez la distribution du nombre de gènes, choisissez le plot."
      ],
      "metadata": {
        "id": "97dUv1eb6G9b"
      }
    },
    {
      "cell_type": "code",
      "source": [
        "#Votre code ici"
      ],
      "metadata": {
        "id": "hsuftnKk6UKt"
      },
      "execution_count": null,
      "outputs": []
    },
    {
      "cell_type": "markdown",
      "source": [
        "Q8. Qu'observez-vous ?"
      ],
      "metadata": {
        "id": "a-45-z3x6XLw"
      }
    },
    {
      "cell_type": "markdown",
      "source": [
        "```markdown\n",
        "Votre réponse ici\n",
        "```"
      ],
      "metadata": {
        "id": "rBGfoSaM66Ta"
      }
    },
    {
      "cell_type": "markdown",
      "source": [
        "Q9. Enlevez les données aberrantes (outliers)"
      ],
      "metadata": {
        "id": "Aw3U7mwq67mn"
      }
    },
    {
      "cell_type": "code",
      "source": [
        "#Votre code ici"
      ],
      "metadata": {
        "id": "_uiR78347EuM"
      },
      "execution_count": null,
      "outputs": []
    },
    {
      "cell_type": "markdown",
      "source": [
        "Q10. Comment avez-vous fait ? Quel seuil avez-vous choisi ?"
      ],
      "metadata": {
        "id": "iKXSZuhV7H-q"
      }
    },
    {
      "cell_type": "markdown",
      "source": [
        "```markdown\n",
        "Votre réponse ici\n",
        "```"
      ],
      "metadata": {
        "id": "7tDIjrVc7M92"
      }
    },
    {
      "cell_type": "markdown",
      "source": [
        "Q11. Y-a-t-il une corrélation entre taille du génome et nombre de gènes ?"
      ],
      "metadata": {
        "id": "EmZ7Ws1x7OIe"
      }
    },
    {
      "cell_type": "code",
      "source": [
        "#Votre code ici"
      ],
      "metadata": {
        "id": "jquRl-Pz7THy"
      },
      "execution_count": null,
      "outputs": []
    },
    {
      "cell_type": "markdown",
      "source": [
        "# Exercice 4: GC-content"
      ],
      "metadata": {
        "id": "1op22x767Y2F"
      }
    },
    {
      "cell_type": "markdown",
      "source": [
        "Pour une séquence $s$, le contenu en GC est défini par :\n",
        "\n",
        "$GC(s)=\\frac{\\#G(s) + \\#C(s)}{|s|}$,\n",
        "\n",
        "où $\\#N(s)$ est le nombre de nucléotides $N$ dans la séquence $s$ et $|s|$ est la taille de $s$."
      ],
      "metadata": {
        "id": "usMP4N887cQQ"
      }
    },
    {
      "cell_type": "markdown",
      "source": [
        "Q1. Récuperrez legénome de l’organisme *Acidianus ambivalens* à partir du FTP :\n",
        "\n",
        "https://ftp.ncbi.nlm.nih.gov/genomes/genbank/archaea/\n",
        "\n",
        "(dans latest_assembly_versions/GCA_009729015.1_ASM972901v1, le fichier avec l'extension \"fna.gz\")\n"
      ],
      "metadata": {
        "id": "ToE1SWAI75NJ"
      }
    },
    {
      "cell_type": "markdown",
      "source": [
        "Q2. Affichez le GC content global."
      ],
      "metadata": {
        "id": "ucshnQUQ83cV"
      }
    },
    {
      "cell_type": "code",
      "source": [
        "#Votre code ici"
      ],
      "metadata": {
        "id": "-QZhVkdH88dj"
      },
      "execution_count": null,
      "outputs": []
    },
    {
      "cell_type": "markdown",
      "source": [
        "Q3. Pour détecter des variations locales de GC, on va utiliser une fenêtre glissante de taille N nucléotides (démarrer à la position N/2 et finir à |s| -N/2).\n",
        "\n",
        "Affichez le GC content le long du génome pour des fenêtres de tailles 50, 1000 ou 10000."
      ],
      "metadata": {
        "id": "h9guJlTj89z9"
      }
    },
    {
      "cell_type": "code",
      "source": [
        "#Votre code ici"
      ],
      "metadata": {
        "id": "qFJb63wB9P5K"
      },
      "execution_count": null,
      "outputs": []
    },
    {
      "cell_type": "markdown",
      "source": [
        "Q4. Qu’observez-vous ?"
      ],
      "metadata": {
        "id": "ClZ57OAi9Ran"
      }
    },
    {
      "cell_type": "markdown",
      "source": [
        "```markdown\n",
        "Votre réponse ici\n",
        "```"
      ],
      "metadata": {
        "id": "EJpHpyNk9S8D"
      }
    },
    {
      "cell_type": "markdown",
      "source": [
        "Q5. On va lisser le signal pour le rendre moins bruité en utilisant la fonction *savgol_filter* de *scipy.signal* avec les paramètres $51$ et $5$."
      ],
      "metadata": {
        "id": "gL-egRkq9bgj"
      }
    },
    {
      "cell_type": "code",
      "source": [
        "#Votre code ici"
      ],
      "metadata": {
        "id": "vYbO1W0a9-Hz"
      },
      "execution_count": null,
      "outputs": []
    },
    {
      "cell_type": "markdown",
      "source": [
        "Q6. Finalement, on va rendre le code générique pour n'importe quel espèce. Modifier votre code pour qu'il prenne en entrée un nom de fichier de génome du ftp, et une taille de fenêtre, et affiche le GC content global et local."
      ],
      "metadata": {
        "id": "W-X6zUqA9_du"
      }
    },
    {
      "cell_type": "code",
      "source": [
        "#Votre code ici"
      ],
      "metadata": {
        "id": "QHjLwSJ2-TkO"
      },
      "execution_count": null,
      "outputs": []
    }
  ]
}